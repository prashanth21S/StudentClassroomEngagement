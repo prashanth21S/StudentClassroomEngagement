{
 "cells": [
  {
   "cell_type": "code",
   "execution_count": 1,
   "id": "e95d88f8",
   "metadata": {},
   "outputs": [],
   "source": [
    "import pandas as pd\n",
    "import numpy as np\n",
    "import matplotlib.pyplot as plt\n",
    "import joblib\n",
    "from sklearn.preprocessing import StandardScaler\n",
    "import glob\n",
    "import os"
   ]
  },
  {
   "cell_type": "code",
   "execution_count": null,
   "id": "8ed7aadc",
   "metadata": {},
   "outputs": [],
   "source": [
    "dff=pd.read_csv(\"./TopFeatures.csv\")"
   ]
  },
  {
   "cell_type": "code",
   "execution_count": null,
   "id": "17318afd",
   "metadata": {},
   "outputs": [],
   "source": [
    "feat=dff.to_numpy()\n",
    "feat=feat.reshape(-1)"
   ]
  },
  {
   "cell_type": "code",
   "execution_count": 2,
   "id": "46a2b3db",
   "metadata": {},
   "outputs": [],
   "source": [
    "path = r'./processed/data' # use your path\n",
    "all_files = glob.glob(path + \"/*.csv\")\n",
    "\n",
    "for filename in all_files:\n",
    "    df = pd.read_csv(filename, index_col=None, header=0)\n",
    "    x_train=df\n",
    "    x_train=x_train[feat] # Added these for feature Selection\n",
    "    fileNameActual=filename.replace(\"./processed/data/\",\"\")\n",
    "    mj = joblib.load('./models/model_joblib_decision_tree')\n",
    "    y_pred = mj.predict(x_train)\n",
    "    column_values = ['Result']\n",
    "  \n",
    "    # creating the dataframe\n",
    "    dFrame = pd.DataFrame(data = y_pred, columns = column_values)\n",
    "    patho=r'./reports'\n",
    "    dFrame.to_csv(os.path.join(patho,r''+\"report.csv\"))"
   ]
  },
  {
   "cell_type": "markdown",
   "id": "71685214",
   "metadata": {},
   "source": [
    "import pandas as pd\n",
    "import os\n",
    "import glob\n",
    "  \n",
    "# initialise data of lists.\n",
    "data = {'Name':['Richard'],\n",
    "        'Marks':[8], 'Time':[2]}\n",
    "  \n",
    "# Creates pandas DataFrame.\n",
    "df = pd.DataFrame(data)\n",
    "  \n",
    "# print the data\n",
    "patho=r'./uploaded/details'\n",
    "df.to_csv(os.path.join(patho,r''+\"details.csv\"),index=False)"
   ]
  },
  {
   "cell_type": "code",
   "execution_count": null,
   "id": "d6285f21",
   "metadata": {},
   "outputs": [],
   "source": []
  }
 ],
 "metadata": {
  "kernelspec": {
   "display_name": "Python 3",
   "language": "python",
   "name": "python3"
  },
  "language_info": {
   "codemirror_mode": {
    "name": "ipython",
    "version": 3
   },
   "file_extension": ".py",
   "mimetype": "text/x-python",
   "name": "python",
   "nbconvert_exporter": "python",
   "pygments_lexer": "ipython3",
   "version": "3.8.5"
  }
 },
 "nbformat": 4,
 "nbformat_minor": 5
}
