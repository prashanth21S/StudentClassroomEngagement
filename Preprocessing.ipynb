{
 "cells": [
  {
   "cell_type": "code",
   "execution_count": 1,
   "id": "69fb0962",
   "metadata": {},
   "outputs": [],
   "source": [
    "import pandas as pd\n",
    "import glob\n",
    "import os\n",
    "from sklearn.preprocessing import StandardScaler"
   ]
  },
  {
   "cell_type": "markdown",
   "id": "d1099ec4",
   "metadata": {},
   "source": [
    "## Preprocessing the uploaded csv files"
   ]
  },
  {
   "cell_type": "code",
   "execution_count": 2,
   "id": "e7071c3b",
   "metadata": {},
   "outputs": [],
   "source": [
    "pathl = r'./uploaded/data' # use your path\n",
    "all_files = glob.glob(pathl + \"/*.csv\")\n",
    "patho=r'./processed/data'\n",
    "for filename in all_files:\n",
    "    df = pd.read_csv(filename, index_col=None, header=0)\n",
    "    delete_row = df[df[\" confidence\"]<=0.50].index\n",
    "    df = df.drop(delete_row)\n",
    "    df=df.drop(['frame',' face_id',' timestamp',' confidence',' success'],axis=1) \n",
    "    fileToBeSaved=filename.replace(\"./uploaded/data/\",\"\")\n",
    "    df.to_csv(os.path.join(patho,r''+fileToBeSaved),index=False)"
   ]
  },
  {
   "cell_type": "code",
   "execution_count": null,
   "id": "473e4c28",
   "metadata": {},
   "outputs": [],
   "source": []
  }
 ],
 "metadata": {
  "kernelspec": {
   "display_name": "Python 3",
   "language": "python",
   "name": "python3"
  },
  "language_info": {
   "codemirror_mode": {
    "name": "ipython",
    "version": 3
   },
   "file_extension": ".py",
   "mimetype": "text/x-python",
   "name": "python",
   "nbconvert_exporter": "python",
   "pygments_lexer": "ipython3",
   "version": "3.8.5"
  }
 },
 "nbformat": 4,
 "nbformat_minor": 5
}
