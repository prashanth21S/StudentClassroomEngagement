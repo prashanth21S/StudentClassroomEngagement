{
 "cells": [
  {
   "cell_type": "code",
   "execution_count": 1,
   "id": "c27672e9",
   "metadata": {},
   "outputs": [],
   "source": [
    "import pandas as pd\n",
    "import numpy as np\n",
    "import matplotlib.pyplot as plt\n",
    "import joblib\n",
    "from sklearn.preprocessing import StandardScaler\n",
    "import glob\n",
    "import os"
   ]
  },
  {
   "cell_type": "code",
   "execution_count": null,
   "id": "81d7699a",
   "metadata": {},
   "outputs": [],
   "source": [
    "dff=pd.read_csv(\"./TopFeatures.csv\")"
   ]
  },
  {
   "cell_type": "code",
   "execution_count": null,
   "id": "38be2564",
   "metadata": {},
   "outputs": [],
   "source": [
    "feat=dff.to_numpy()\n",
    "feat=feat.reshape(-1)"
   ]
  },
  {
   "cell_type": "code",
   "execution_count": 2,
   "id": "f3dca674",
   "metadata": {},
   "outputs": [],
   "source": [
    "path = r'./processed/data' # use your path\n",
    "all_files = glob.glob(path + \"/*.csv\")\n",
    "scaler = StandardScaler()\n",
    "\n",
    "for filename in all_files:\n",
    "    df = pd.read_csv(filename, index_col=None, header=0)\n",
    "    model = scaler.fit(df)\n",
    "    x_train = model.transform(df)\n",
    "    x_train=x_train[feat] #feature selection\n",
    "    fileNameActual=filename.replace(\"./processed/data/\",\"\")\n",
    "    mj = joblib.load('./models/model_joblib_logistic_regression')\n",
    "    y_pred = mj.predict(x_train)\n",
    "    column_values = ['Result']\n",
    "  \n",
    "    dFrame = pd.DataFrame(data = y_pred, columns = column_values)\n",
    "    patho=r'./reports'\n",
    "    dFrame.to_csv(os.path.join(patho,r''+\"report.csv\"))"
   ]
  }
 ],
 "metadata": {
  "kernelspec": {
   "display_name": "Python 3",
   "language": "python",
   "name": "python3"
  },
  "language_info": {
   "codemirror_mode": {
    "name": "ipython",
    "version": 3
   },
   "file_extension": ".py",
   "mimetype": "text/x-python",
   "name": "python",
   "nbconvert_exporter": "python",
   "pygments_lexer": "ipython3",
   "version": "3.8.5"
  }
 },
 "nbformat": 4,
 "nbformat_minor": 5
}
